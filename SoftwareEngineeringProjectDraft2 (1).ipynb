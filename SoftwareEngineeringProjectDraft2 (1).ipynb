{
 "cells": [
  {
   "cell_type": "code",
   "execution_count": 1,
   "metadata": {},
   "outputs": [
    {
     "name": "stdout",
     "output_type": "stream",
     "text": [
      "Requirement already satisfied: pygame in c:\\users\\alex\\anaconda3\\lib\\site-packages (2.1.2)\n"
     ]
    }
   ],
   "source": [
    "!pip install pygame"
   ]
  },
  {
   "cell_type": "code",
   "execution_count": 2,
   "metadata": {},
   "outputs": [],
   "source": [
    "# Imports"
   ]
  },
  {
   "cell_type": "code",
   "execution_count": 3,
   "metadata": {},
   "outputs": [
    {
     "name": "stdout",
     "output_type": "stream",
     "text": [
      "pygame 2.1.2 (SDL 2.0.18, Python 3.7.3)\n",
      "Hello from the pygame community. https://www.pygame.org/contribute.html\n"
     ]
    }
   ],
   "source": [
    "import pygame\n",
    "pygame.font.init() # you have to call this at the start, \n",
    "                   # if you want to use this module."
   ]
  },
  {
   "cell_type": "code",
   "execution_count": 4,
   "metadata": {
    "scrolled": true
   },
   "outputs": [
    {
     "name": "stdout",
     "output_type": "stream",
     "text": [
      "Video display should exist in pop up window as of now\n"
     ]
    }
   ],
   "source": [
    "WIDTH, HEIGHT = 800, 800\n",
    "#creates the window\n",
    "WIN = pygame.display.set_mode((WIDTH, HEIGHT))\n",
    "#Gives the window a name in the top left corner\n",
    "pygame.display.set_caption(\"Pachinko SWE Project!\")\n",
    "#RGB color constants\n",
    "WHITE = (255, 255, 255)\n",
    "BLACK = (0, 0, 0)\n",
    "RED = (255, 0, 0)\n",
    "GREEN = (50, 205, 50)\n",
    "BLUE = (176,224,230)\n",
    "GREY = (105,105,105)\n",
    "LIGHT_GREY = (211, 211, 211)\n",
    "YELLOW = (255, 255, 0)\n",
    "PURPLE = (128, 0, 128)\n",
    "#How many frames per second we want to show. When we are accually testing this is should be around 60\n",
    "FPS = 5000\n",
    "WIN.fill(GREY)\n",
    "# notify user the display should pop up in a video device, if not rendering code not needed\n",
    "print(\"Video display should exist in pop up window as of now\")\n",
    "#Any change you want to have happen to the window will have when you call this\n",
    "pygame.display.update()"
   ]
  },
  {
   "cell_type": "code",
   "execution_count": 5,
   "metadata": {
    "scrolled": true
   },
   "outputs": [],
   "source": [
    "#For now, draw the empty board\n",
    "\n",
    "def draw_window(num_bars, board, cup_cur_pos):\n",
    "    #the height will be the same as the number of bars\n",
    "    for cur_h in range(num_bars):\n",
    "        #We want to start on the left side of the middle and go to the right side\n",
    "        for i in range(-cur_h,cur_h+1,2):\n",
    "            #print(\"X:\", i, \"Y:\",cur_h)\n",
    "            #print(\"if statement X:\",(i + cur_h)//2 , \"if statement Y:\",cur_h - (i + cur_h)//2)\n",
    "            #print(\"X:\",(WIDTH/2 + i * WIDTH/(2*num_bars + 1)), \"Y:\", 100 + cur_h * 100)\n",
    "            #middle +- the width of half of a bar\n",
    "            pygame.draw.circle(WIN,BLUE, ((WIDTH/2 + i * WIDTH/(2*num_bars + 1)), 50 + (cur_h + 1) * 550/(num_bars + 3)), 10)\n",
    "            if(board[(i + cur_h)//2][cur_h - (i + cur_h)//2] == 0):\n",
    "                pygame.draw.circle(WIN,GREEN, ((WIDTH/2 + i * WIDTH/(2*num_bars + 1)), 50 + cur_h * 550/(num_bars + 3)), 5)\n",
    "            elif(board[(i+ cur_h)//2][cur_h - (i + cur_h)//2] == 1):\n",
    "                pygame.draw.circle(WIN,PURPLE, ((WIDTH/2 + i * WIDTH/(2*num_bars + 1)), 50 + cur_h * 550/(num_bars + 3)), 5)\n",
    "            \n",
    "    #Same idea as above, but for the drop down section, this has a length of 3\n",
    "    for j in range(3):\n",
    "        for drop_down in range(-num_bars, num_bars + 1,2):\n",
    "            print(\"X:\",(drop_down + num_bars)//2,\"Y:\" , j + num_bars - (drop_down + num_bars)//2)\n",
    "            if(board[(drop_down + num_bars)//2][j + num_bars - (drop_down + num_bars)//2] == 0):\n",
    "                pygame.draw.circle(WIN,GREEN, ((WIDTH/2 + drop_down * WIDTH/(2*num_bars + 1)), num_bars * 550/(num_bars + 3) + 50 + j * 550/(num_bars + 3)), 5)\n",
    "            elif(board[(drop_down + num_bars)//2][j + num_bars - (drop_down + num_bars)//2] == 1):\n",
    "                pygame.draw.circle(WIN,PURPLE, ((WIDTH/2 + drop_down * WIDTH/(2*num_bars + 1)), num_bars * 550/(num_bars + 3) + 50 + j * 550/(num_bars + 3)), 5)    \n",
    "    \n",
    "    \n",
    "    #Cup/Catcher Display\n",
    "    \n",
    "    for kk in range(num_bars + 1):\n",
    "        if(cup_cur_pos == kk):\n",
    "            ##print cup at right spot\n",
    "            pygame.draw.rect(WIN, BLACK,((2*kk * WIDTH/(2*num_bars + 1) + WIDTH/(2 * (2*num_bars + 1)) - 20, 625, 40, 50)))\n",
    "            pygame.draw.circle(WIN,WHITE, ((2*kk * WIDTH/(2*num_bars + 1)) + WIDTH/(2 * (2*num_bars + 1)), 625) , 20)\n",
    "            #Light_Grey_Highlight\n",
    "            pygame.draw.circle(WIN,LIGHT_GREY, ((2*kk * WIDTH/(2*num_bars + 1)) + WIDTH/(2 * (2*num_bars + 1)), 625) , 19, 3)\n",
    "        else:\n",
    "            ##remove old cup drawing\n",
    "            pygame.draw.rect(WIN, GREY,((2*kk * WIDTH/(2*num_bars + 1) + WIDTH/(2 * (2*num_bars + 1)) - 20, 625, 40, 50)))\n",
    "            pygame.draw.circle(WIN,GREY, ((2*kk * WIDTH/(2*num_bars + 1)) + WIDTH/(2 * (2*num_bars + 1)), 625) , 20)\n",
    "    \n",
    "    \n",
    "    \n",
    "    #Bottom Display\n",
    "    pygame.draw.rect(WIN, BLACK, (0, 700 , 800, 100))\n",
    "    #Right Arrow\n",
    "    pygame.draw.polygon(WIN, YELLOW, [(750,725),(775,750),(750,775)])\n",
    "    pygame.draw.rect(WIN, YELLOW, (720,735,30,30))\n",
    "    #Middle Box\n",
    "    pygame.draw.rect(WIN, YELLOW, (670,735,30,30))\n",
    "    #Left Arrow\n",
    "    pygame.draw.rect(WIN, YELLOW, (620,735,30,30))\n",
    "    pygame.draw.polygon(WIN, YELLOW, [(620,725),(595,750),(620,775)])\n",
    "    \n",
    "    #Score Text at bottom of screen\n",
    "    my_font = pygame.font.SysFont('Helvetica', 50)\n",
    "    \n",
    "    text_surface = my_font.render('Score', False, YELLOW)\n",
    "    \n",
    "    WIN.blit(text_surface, (0,720))\n",
    "    \n",
    "    pygame.display.update()"
   ]
  },
  {
   "cell_type": "code",
   "execution_count": 6,
   "metadata": {
    "scrolled": true
   },
   "outputs": [
    {
     "name": "stdout",
     "output_type": "stream",
     "text": [
      "[[0, 0, 0, 0, 0, 0, 0, 0, 0, 0, 0], [0, 0, 0, 0, 0, 0, 0, 0, 0, 0], [0, 0, 0, 0, 0, 0, 0, 0, 0], [0, 0, 0, 0, 0, 0, 0, 0], [0, 0, 0, 0, 0, 0, 0], [0, 0, 0, 0, 0, 0], [0, 0, 0, 0, 0], [0, 0, 0, 0], [0, 0, 0]]\n",
      "X: 0 Y: 8\n",
      "X: 1 Y: 7\n",
      "X: 2 Y: 6\n",
      "X: 3 Y: 5\n",
      "X: 4 Y: 4\n",
      "X: 5 Y: 3\n",
      "X: 6 Y: 2\n",
      "X: 7 Y: 1\n",
      "X: 8 Y: 0\n",
      "X: 0 Y: 9\n",
      "X: 1 Y: 8\n",
      "X: 2 Y: 7\n",
      "X: 3 Y: 6\n",
      "X: 4 Y: 5\n",
      "X: 5 Y: 4\n",
      "X: 6 Y: 3\n",
      "X: 7 Y: 2\n",
      "X: 8 Y: 1\n",
      "X: 0 Y: 10\n",
      "X: 1 Y: 9\n",
      "X: 2 Y: 8\n",
      "X: 3 Y: 7\n",
      "X: 4 Y: 6\n",
      "X: 5 Y: 5\n",
      "X: 6 Y: 4\n",
      "X: 7 Y: 3\n",
      "X: 8 Y: 2\n"
     ]
    }
   ],
   "source": [
    "board = []\n",
    "num_bars = 8\n",
    "cup_cur_pos = 6\n",
    "for jj in range(num_bars + 1):\n",
    "    board.append([0]*(num_bars + 3 - jj))\n",
    "print(board)\n",
    "#board[2][6] = 1\n",
    "\n",
    "draw_window(num_bars, board, cup_cur_pos)"
   ]
  },
  {
   "cell_type": "code",
   "execution_count": null,
   "metadata": {},
   "outputs": [],
   "source": []
  },
  {
   "cell_type": "code",
   "execution_count": 7,
   "metadata": {},
   "outputs": [],
   "source": [
    "#pygame.quit()"
   ]
  }
 ],
 "metadata": {
  "kernelspec": {
   "display_name": "Python 3",
   "language": "python",
   "name": "python3"
  },
  "language_info": {
   "codemirror_mode": {
    "name": "ipython",
    "version": 3
   },
   "file_extension": ".py",
   "mimetype": "text/x-python",
   "name": "python",
   "nbconvert_exporter": "python",
   "pygments_lexer": "ipython3",
   "version": "3.7.3"
  }
 },
 "nbformat": 4,
 "nbformat_minor": 2
}
